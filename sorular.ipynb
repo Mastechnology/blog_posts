{
 "cells": [
  {
   "cell_type": "markdown",
   "metadata": {},
   "source": [
    "# Soru 1 çözüm"
   ]
  },
  {
   "cell_type": "code",
   "execution_count": 12,
   "metadata": {},
   "outputs": [],
   "source": [
    "content = \"okul,merhaba,kitap,durak\""
   ]
  },
  {
   "cell_type": "code",
   "execution_count": 14,
   "metadata": {},
   "outputs": [
    {
     "name": "stdout",
     "output_type": "stream",
     "text": [
      "durak - kitap - merhaba - okul\n"
     ]
    }
   ],
   "source": [
    "items = []\n",
    "\n",
    "#ilk bölme işlemini yapıyoruz.\n",
    "for x in content.split(','):\n",
    "    items.append(x)\n",
    "\n",
    "#sonra sırada sıralama işlemi var\n",
    "items.sort()\n",
    "\n",
    "#gösterim işlemi\n",
    "print(' - '.join(items))"
   ]
  },
  {
   "cell_type": "markdown",
   "metadata": {},
   "source": [
    "# Soru 1 çözüm 2"
   ]
  },
  {
   "cell_type": "code",
   "execution_count": 13,
   "metadata": {},
   "outputs": [
    {
     "name": "stdout",
     "output_type": "stream",
     "text": [
      "durak - kitap - merhaba - okul\n"
     ]
    }
   ],
   "source": [
    "items=[x for x in content.split(',')]\n",
    "items.sort()\n",
    "print(' - '.join(items))"
   ]
  },
  {
   "cell_type": "markdown",
   "metadata": {},
   "source": [
    "# Soru 2 çözüm"
   ]
  },
  {
   "cell_type": "code",
   "execution_count": 16,
   "metadata": {},
   "outputs": [],
   "source": [
    "s = \"Selam Dünya! 123\""
   ]
  },
  {
   "cell_type": "code",
   "execution_count": 17,
   "metadata": {},
   "outputs": [
    {
     "name": "stdout",
     "output_type": "stream",
     "text": [
      "LETTERS 10\n",
      "DIGITS 3\n"
     ]
    }
   ],
   "source": [
    "d={\"DIGITS\":0, \"LETTERS\":0}\n",
    "for c in s:\n",
    "    if c.isdigit():\n",
    "        d[\"DIGITS\"]+=1\n",
    "    elif c.isalpha():\n",
    "        d[\"LETTERS\"]+=1\n",
    "    else:\n",
    "        pass\n",
    "print(\"LETTERS\", d[\"LETTERS\"])\n",
    "print(\"DIGITS\", d[\"DIGITS\"])"
   ]
  },
  {
   "cell_type": "markdown",
   "metadata": {},
   "source": [
    "# Soru 3 çözüm"
   ]
  },
  {
   "cell_type": "code",
   "execution_count": 1,
   "metadata": {},
   "outputs": [
    {
     "name": "stdout",
     "output_type": "stream",
     "text": [
      "5\n"
     ]
    }
   ],
   "source": [
    "import math\n",
    "\n",
    "pos = [0,0]\n",
    "while True:\n",
    "    s = input('Yön giriniz:')\n",
    "    if not s:\n",
    "        break\n",
    "    movement = s.split(\" \")\n",
    "    direction = movement[0]\n",
    "    if direction==\"son\":\n",
    "        break\n",
    "    steps = int(movement[1])\n",
    "    if direction==\"yukari\":\n",
    "        pos[0]+=steps\n",
    "    elif direction==\"asagi\":\n",
    "        pos[0]-=steps\n",
    "    elif direction==\"sol\":\n",
    "        pos[1]-=steps\n",
    "    elif direction==\"sag\":\n",
    "        pos[1]+=steps\n",
    "    else:\n",
    "        pass\n",
    "\n",
    "print(int(round(math.sqrt(pos[1]**2+pos[0]**2))))"
   ]
  },
  {
   "cell_type": "markdown",
   "metadata": {},
   "source": [
    "# Soru 4 çözüm"
   ]
  },
  {
   "cell_type": "code",
   "execution_count": 2,
   "metadata": {},
   "outputs": [
    {
     "name": "stdout",
     "output_type": "stream",
     "text": [
      "En yakın palindrom değer: 66\n"
     ]
    }
   ],
   "source": [
    "import sys\n",
    "\n",
    "def areYouPalindrome(inputLen, myInput):\n",
    "    returnVal = True\n",
    "    if inputLen > 1:\n",
    "        for i in range(inputLen//2 + 1):\n",
    "            if myInput[i] != myInput[inputLen-i-1]:\n",
    "                returnVal = False\n",
    "    else:\n",
    "        returnVal = False\n",
    "    return returnVal\n",
    "\n",
    "myInput = input(\"Bir deger giriniz:\")\n",
    "inputLen = len(myInput)\n",
    "\n",
    "isPalindrome = True\n",
    "counterForPalindrome = 0\n",
    "ourPalindromeValue = 0\n",
    "\n",
    "palindromeFound = False\n",
    "while palindromeFound == False:\n",
    "    if areYouPalindrome(inputLen, str(int(myInput) + counterForPalindrome)) == True:\n",
    "        palindromeFound = True\n",
    "        ourPalindromeValue = str(int(myInput) + counterForPalindrome)\n",
    "        break\n",
    "    elif areYouPalindrome(inputLen, str(int(myInput) - counterForPalindrome)) == True:\n",
    "        palindromeFound = True\n",
    "        ourPalindromeValue = str(int(myInput) - counterForPalindrome)\n",
    "        break\n",
    "    counterForPalindrome += 1    \n",
    "    \n",
    "print(f\"En yakın palindrom değer: {ourPalindromeValue}\")"
   ]
  },
  {
   "cell_type": "markdown",
   "metadata": {},
   "source": [
    "# Soru 4 çözüm 2"
   ]
  },
  {
   "cell_type": "code",
   "execution_count": 55,
   "metadata": {},
   "outputs": [
    {
     "name": "stdout",
     "output_type": "stream",
     "text": [
      "77\n"
     ]
    }
   ],
   "source": [
    "def palin(n):\n",
    "    u,d = n,n\n",
    "    while(1):\n",
    "        if u==int(str(u)[::-1]):\n",
    "            return u\n",
    "        elif d==int(str(d)[::-1]):\n",
    "            return d\n",
    "        u+=1\n",
    "        d-=1\n",
    "n=int(input())\n",
    "print(palin(n))"
   ]
  },
  {
   "attachments": {},
   "cell_type": "markdown",
   "metadata": {},
   "source": [
    "# Soru 5 "
   ]
  },
  {
   "cell_type": "code",
   "execution_count": 4,
   "metadata": {},
   "outputs": [
    {
     "name": "stdout",
     "output_type": "stream",
     "text": [
      "Fibonacci sequence:\n",
      "0\n",
      "1\n",
      "1\n",
      "2\n",
      "3\n",
      "5\n",
      "8\n"
     ]
    }
   ],
   "source": [
    "nterms = int(input(\"Kaç değer istiyorsun? \"))\n",
    "\n",
    "# ilk iki değer\n",
    "n1, n2 = 0, 1\n",
    "count = 0\n",
    "\n",
    "# girilen değer valid mi diye bakarız.\n",
    "if nterms <= 0:\n",
    "   print(\"Lütfen valid bir değer giriniz:\")\n",
    "\n",
    "elif nterms == 1:\n",
    "   print(\"Fibonacci sekansı \",nterms,\" tanedir:\")\n",
    "   print(n1)\n",
    "\n",
    "else:\n",
    "   print(\"Fibonacci sequence:\")\n",
    "   while count < nterms:\n",
    "       print(n1)\n",
    "       nth = n1 + n2\n",
    "       # değerler güncellenir.\n",
    "       n1 = n2\n",
    "       n2 = nth\n",
    "       count += 1"
   ]
  },
  {
   "cell_type": "code",
   "execution_count": 9,
   "metadata": {},
   "outputs": [
    {
     "name": "stdout",
     "output_type": "stream",
     "text": [
      "0\n",
      "1\n",
      "1\n",
      "2\n",
      "3\n",
      "5\n",
      "8\n",
      "13\n",
      "21\n",
      "34\n"
     ]
    }
   ],
   "source": [
    "def Fibonacci(n):\n",
    "   \n",
    "    if n < 0:\n",
    "        print(\"Incorrect input\")\n",
    " \n",
    "    elif n == 0:\n",
    "        return 0\n",
    " \n",
    "    elif n == 1 or n == 2:\n",
    "        return 1\n",
    " \n",
    "    else:\n",
    "        return Fibonacci(n-1) + Fibonacci(n-2)\n",
    "\n",
    "\n",
    "deger = input(\"Değer giriniz:\")\n",
    "for i in range(int(deger)):\n",
    "    print(Fibonacci(i))"
   ]
  },
  {
   "attachments": {},
   "cell_type": "markdown",
   "metadata": {},
   "source": [
    "# Örnek 6"
   ]
  },
  {
   "cell_type": "code",
   "execution_count": 16,
   "metadata": {},
   "outputs": [
    {
     "name": "stdout",
     "output_type": "stream",
     "text": [
      "{{[[(())]]}} - Balanced\n",
      "()()(()){[] - Unbalanced\n",
      "[][]()(()){[]()} - Balanced\n",
      "{[(])} - Unbalanced\n"
     ]
    }
   ],
   "source": [
    "acmaList = [\"[\",\"{\",\"(\"]\n",
    "kapamaList = [\"]\",\"}\",\")\"]\n",
    "  \n",
    "# Function to check parentheses\n",
    "def check(myStr):\n",
    "    stack = []\n",
    "    for i in myStr:\n",
    "        if i in acmaList:\n",
    "            stack.append(i)\n",
    "        elif i in kapamaList:\n",
    "            pos = kapamaList.index(i)\n",
    "            if ((len(stack) > 0) and\n",
    "                (acmaList[pos] == stack[len(stack)-1])):\n",
    "                stack.pop()\n",
    "            else:\n",
    "                return \"Unbalanced\"\n",
    "    if len(stack) == 0:\n",
    "        return \"Balanced\"\n",
    "    else:\n",
    "        return \"Unbalanced\"\n",
    "  \n",
    "  \n",
    "# Driver code\n",
    "string = \"{{[[(())]]}}\"\n",
    "print(string,\"-\", check(string))\n",
    "  \n",
    "string = \"()()(()){[]\"\n",
    "print(string,\"-\", check(string))\n",
    "  \n",
    "string = \"[][]()(()){[]()}\"\n",
    "print(string,\"-\",check(string))\n",
    "\n",
    "string =  \"{[(])}\"\n",
    "print(string,\"-\",check(string))"
   ]
  },
  {
   "attachments": {},
   "cell_type": "markdown",
   "metadata": {},
   "source": [
    "# Soru 7"
   ]
  },
  {
   "cell_type": "code",
   "execution_count": 36,
   "metadata": {},
   "outputs": [
    {
     "name": "stdout",
     "output_type": "stream",
     "text": [
      "['5', '2']\n"
     ]
    }
   ],
   "source": [
    "def inn(p):\n",
    "    return 100000 <= int(p) <= 999999\n",
    "\n",
    "\n",
    "def imm(p):\n",
    "    l = []\n",
    "    for i in range(len(p) - 2):\n",
    "        comp = p[i] == p[i + 2]\n",
    "        if (comp):\n",
    "            l.append(p[i])\n",
    "    return l\n",
    "\n",
    "\n",
    "def is_valid(p):\n",
    "    return (p.isdigit() and inn(p))\n",
    "\n",
    "p = input()\n",
    "if is_valid(p):\n",
    "    returnVal = imm(p)\n",
    "    if len(returnVal) < 1:\n",
    "        print(\"NO digit is an alternating repetitive digit.\")\n",
    "    else:\n",
    "        print(returnVal)"
   ]
  },
  {
   "attachments": {},
   "cell_type": "markdown",
   "metadata": {},
   "source": [
    "# Soru 8"
   ]
  },
  {
   "cell_type": "code",
   "execution_count": 6,
   "metadata": {},
   "outputs": [
    {
     "name": "stdout",
     "output_type": "stream",
     "text": [
      "8\n"
     ]
    }
   ],
   "source": [
    "# Sample Input\n",
    "# 5\n",
    "# 1 2 3 6 5 4 4 2 5 3 6 1 6 5 3 2 4 1 2 5 1 4 3 6 8 4 3 1 5 6 2\n",
    "\n",
    "k = 5\n",
    "myInput = \"1 2 3 6 5 4 4 2 5 3 6 1 6 5 3 2 4 1 2 5 1 4 3 6 8 4 3 1 5 6 2\"\n",
    "rooms = list(map(int, myInput.split()))\n",
    "roomSet = set(rooms)\n",
    "roomSum = sum(rooms)\n",
    "roomSetSum = sum(roomSet) * k\n",
    "captainsRoom =  (roomSetSum - roomSum) // (k - 1)\n",
    "print(captainsRoom)\n",
    "\n",
    "# Sample Input\n",
    "# 4\n",
    "# 1 3 2 4 6 4 1 3 2 4 2 1 3 3 2 4 1 \n",
    "# Output: 6"
   ]
  }
 ],
 "metadata": {
  "kernelspec": {
   "display_name": "Python 3.10.9 64-bit (microsoft store)",
   "language": "python",
   "name": "python3"
  },
  "language_info": {
   "codemirror_mode": {
    "name": "ipython",
    "version": 3
   },
   "file_extension": ".py",
   "mimetype": "text/x-python",
   "name": "python",
   "nbconvert_exporter": "python",
   "pygments_lexer": "ipython3",
   "version": "3.10.9 (tags/v3.10.9:1dd9be6, Dec  6 2022, 20:01:21) [MSC v.1934 64 bit (AMD64)]"
  },
  "orig_nbformat": 4,
  "vscode": {
   "interpreter": {
    "hash": "fe41ecc6b9a4022ba28b6afb3d284dcfe76628d62a390e0c09774bd889787e94"
   }
  }
 },
 "nbformat": 4,
 "nbformat_minor": 2
}
